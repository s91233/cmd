{
 "cells": [
  {
   "cell_type": "markdown",
   "metadata": {},
   "source": [
    "Codierung multimedialer Daten\n",
    "=============================\n",
    "\n",
    "**Author:** Johann-Markus Batke\n",
    "\n",
    "**Date:** <2024-05-08 Mi>\n",
    "\n"
   ]
  },
  {
   "cell_type": "markdown",
   "metadata": {},
   "source": [
    "## Korrelation\n",
    "\n"
   ]
  },
  {
   "cell_type": "markdown",
   "metadata": {},
   "source": [
    "Bestimmen Sie die Korrelation zwischen linkem und rechtem Signal eines Stereosignals. Verwenden Sie dazu die Programmierumgebung Ihrer Wahl.\n",
    "\n",
    "initialisiere benötigte Module:\n",
    "\n"
   ]
  },
  {
   "cell_type": "code",
   "execution_count": 1,
   "metadata": {},
   "outputs": [],
   "source": [
    "import numpy as np\n",
    "import matplotlib.pyplot as plt\n",
    "import scipy.io.wavfile as wavfile"
   ]
  },
  {
   "cell_type": "markdown",
   "metadata": {},
   "source": [
    "Musik-Datei einlesen:\n",
    "\n"
   ]
  },
  {
   "cell_type": "code",
   "execution_count": 1,
   "metadata": {},
   "outputs": [],
   "source": [
    "S_filename = \"../Vorlesung/1Battle_Royal.wav\"\n",
    "[f_rate, x_data] = wavfile.read(S_filename)\n",
    "x_L = np.array(x_data, dtype=float)\n",
    "plt.plot(x_L)"
   ]
  },
  {
   "cell_type": "markdown",
   "metadata": {},
   "source": [
    "### Wahrscheinlichkeitsdichtefunktion\n",
    "\n"
   ]
  },
  {
   "cell_type": "markdown",
   "metadata": {},
   "source": [
    "Schätzung der Wahrscheinlichkeitsdichtefunktion $f_{\\vec x}(x)$ per Häufigkeit\n",
    "\n"
   ]
  },
  {
   "cell_type": "code",
   "execution_count": 1,
   "metadata": {},
   "outputs": [
    {
     "name": "stdout",
     "output_type": "stream",
     "text": [
      "Text(0, 0.5, 'rel. Haeufigkeit in %')"
     ]
    },
    {
     "data": {
      "image/png": "",
      "text/plain": [
       "<matplotlib.figure.Figure>"
      ]
     },
     "metadata": {},
     "output_type": "display_data"
    }
   ],
   "source": [
    "bins_x = np.arange(np.min(np.min(x_data)), np.max(np.max(x_data))+1)\n",
    "f_1_x, bin_edge = np.histogram(x_data[:,0], bins_x, density=True)\n",
    "f_2_x, bin_edge = np.histogram(x_data[:,1], bins_x, density=True)\n",
    "plt.plot(bins_x[1:bins_x.size], f_1_x*100)\n",
    "plt.plot(bins_x[1:bins_x.size], f_2_x*100)\n",
    "plt.xlabel(\"$x$\")\n",
    "plt.ylabel(\"rel. Haeufigkeit in %\")"
   ]
  },
  {
   "cell_type": "markdown",
   "metadata": {},
   "source": [
    "### Wahrscheinlichkeitsverteilung\n",
    "\n"
   ]
  },
  {
   "cell_type": "markdown",
   "metadata": {},
   "source": [
    "Wahrscheinlichkeitsverteilung $F_{\\vec x}(x)$\n",
    "\n"
   ]
  },
  {
   "cell_type": "code",
   "execution_count": 1,
   "metadata": {},
   "outputs": [
    {
     "name": "stdout",
     "output_type": "stream",
     "text": [
      "Text(0, 0.5, '$F_{x}(x)$')"
     ]
    },
    {
     "data": {
      "image/png": "",
      "text/plain": [
       "<matplotlib.figure.Figure>"
      ]
     },
     "metadata": {},
     "output_type": "display_data"
    }
   ],
   "source": [
    "F_1 = np.cumsum(f_1_x)\n",
    "F_2 = np.cumsum(f_2_x)\n",
    "plt.plot(bins_x[1:bins_x.size], F_1)\n",
    "plt.plot(bins_x[1:bins_x.size], F_2)\n",
    "plt.xlabel(\"$x$\")\n",
    "plt.ylabel(\"$F_{x}(x)$\")"
   ]
  },
  {
   "cell_type": "markdown",
   "metadata": {},
   "source": [
    "### Erwartungswert\n",
    "\n"
   ]
  },
  {
   "cell_type": "markdown",
   "metadata": {},
   "source": [
    "Erwartungswert $E\\left\\{ \\vec x \\right\\} = \\int\\limits_{-\\infty}^{\\infty} x \\, f_{x}(x) \\mathrm dx$\n",
    "\n"
   ]
  },
  {
   "cell_type": "code",
   "execution_count": 1,
   "metadata": {},
   "outputs": [],
   "source": [
    "def erwartungswert(x, f_x):\n",
    "    dx = np.diff(x[0:2])\n",
    "    return (f_x.reshape(1, f_x.size) @ x.reshape(x.size, 1)) * dx"
   ]
  },
  {
   "cell_type": "markdown",
   "metadata": {},
   "source": [
    "### Definition k-tes Moment\n",
    "\n"
   ]
  },
  {
   "cell_type": "markdown",
   "metadata": {},
   "source": [
    "\\begin{equation}\n",
    "m_{\\vec x}^{(k)} = \\mathrm E \\left\\{ \\vec x^{k}(\\eta) \\right\\}\n",
    "\\end{equation}\n",
    "\n"
   ]
  },
  {
   "cell_type": "markdown",
   "metadata": {},
   "source": [
    "#### Linearer Mittelwert\n",
    "\n"
   ]
  },
  {
   "cell_type": "markdown",
   "metadata": {},
   "source": [
    "$m_{\\vec x}^{(1)} = E\\left\\{ \\vec x \\right\\}$\n",
    "\n"
   ]
  },
  {
   "cell_type": "code",
   "execution_count": 1,
   "metadata": {},
   "outputs": [
    {
     "name": "stdout",
     "output_type": "stream",
     "text": [
      "[[-69.6974172]]\n",
      "[[-44.52540321]]"
     ]
    }
   ],
   "source": [
    "x = bins_x[0:bins_x.size-1]\n",
    "mu_1 = erwartungswert(x, f_1_x)\n",
    "print(mu_1)\n",
    "mu_2 = erwartungswert(x, f_2_x)\n",
    "print(mu_2)"
   ]
  },
  {
   "cell_type": "markdown",
   "metadata": {},
   "source": [
    "#### quadratischer Erwartungswert\n",
    "\n"
   ]
  },
  {
   "cell_type": "markdown",
   "metadata": {},
   "source": [
    "$m_{\\vec x}^{(2)} = E\\left\\{ \\vec x^2 \\right\\} = \\int\\limits_{-\\infty}^{\\infty} x^{2} \\, f_{x}(x) \\mathrm dx$\n",
    "\n"
   ]
  },
  {
   "cell_type": "code",
   "execution_count": 1,
   "metadata": {},
   "outputs": [
    {
     "name": "stdout",
     "output_type": "stream",
     "text": [
      "[[-2.15623768e+11]]\n",
      "[[-2.46215762e+11]]"
     ]
    }
   ],
   "source": [
    "x = bins_x[0:bins_x.size-1]\n",
    "mu_1 = erwartungswert(x**2, f_1_x)\n",
    "print(mu_1)\n",
    "mu_2 = erwartungswert(x**2, f_2_x)\n",
    "print(mu_2)"
   ]
  },
  {
   "cell_type": "markdown",
   "metadata": {},
   "source": [
    "### Definition k-tes zentrales Moment\n",
    "\n"
   ]
  },
  {
   "cell_type": "markdown",
   "metadata": {},
   "source": [
    "\\begin{equation}\n",
    "\\label{eq:kmoment}\n",
    "\\mu_{\\vec x}^{(k)} = \\mathrm E \\left\\{ \\left(\\vec x - m_{\\vec x}^{(1)}  \\right)^{k} \\right\\}\n",
    "\\end{equation}\n",
    "\n"
   ]
  },
  {
   "cell_type": "markdown",
   "metadata": {},
   "source": [
    "#### Varianz\n",
    "\n"
   ]
  },
  {
   "cell_type": "markdown",
   "metadata": {},
   "source": [
    "$\\mu_{\\vec x}^{(2)} = \\sigma_{\\vec x}^{2} = E\\left\\{ \\vec (x-m_{\\vec x}^{(1)})^2 \\right\\}$\n",
    "\n",
    "Es gilt: $\\sigma_{\\vec x}^{2} = m_{\\vec x}^{(2)} - \\left( m_{\\vec x}^{(1)}\\right)^{2}$\n",
    "\n"
   ]
  },
  {
   "cell_type": "markdown",
   "metadata": {},
   "source": [
    "### Zeitmittelwert\n",
    "\n"
   ]
  },
  {
   "cell_type": "markdown",
   "metadata": {},
   "source": [
    "$\\overline{x} = \\sum \\frac{x[n]}{N}$\n",
    "\n"
   ]
  },
  {
   "cell_type": "code",
   "execution_count": 1,
   "metadata": {},
   "outputs": [
    {
     "name": "stdout",
     "output_type": "stream",
     "text": [
      "[-69.6974172  -44.52539945]"
     ]
    }
   ],
   "source": [
    "mu_x = sum(x_L, 0)/x_L.shape[0]\n",
    "print(mu_x)"
   ]
  },
  {
   "cell_type": "markdown",
   "metadata": {},
   "source": [
    "sind nahe Null.\n",
    "\n"
   ]
  },
  {
   "cell_type": "markdown",
   "metadata": {},
   "source": [
    "### quadratischer Zeitmittelwert\n",
    "\n"
   ]
  },
  {
   "cell_type": "markdown",
   "metadata": {},
   "source": [
    "$\\overline{x^{2}} = \\sum \\frac{x[n]^{2}}{N}$\n",
    "\n"
   ]
  },
  {
   "cell_type": "code",
   "execution_count": 1,
   "metadata": {},
   "outputs": [
    {
     "name": "stdout",
     "output_type": "stream",
     "text": [
      "[6113690.99554119 6981081.59907139]"
     ]
    }
   ],
   "source": [
    "sigma_x = sum(x_L**2, 0)/x_L.shape[0]\n",
    "print(sigma_x)"
   ]
  },
  {
   "cell_type": "markdown",
   "metadata": {},
   "source": [
    "### Mittelwerte zwischen den Kanälen\n",
    "\n"
   ]
  },
  {
   "cell_type": "code",
   "execution_count": 1,
   "metadata": {},
   "outputs": [
    {
     "name": "stdout",
     "output_type": "stream",
     "text": [
      "Text(0.5, 0, '$n$')"
     ]
    },
    {
     "data": {
      "image/png": "",
      "text/plain": [
       "<matplotlib.figure.Figure>"
      ]
     },
     "metadata": {},
     "output_type": "display_data"
    }
   ],
   "source": [
    "x_mu_L = np.sum(x_L, 1)/x_L.shape[1]\n",
    "plt.plot(x_mu_L)\n",
    "plt.xlabel(\"$n$\")"
   ]
  },
  {
   "cell_type": "markdown",
   "metadata": {},
   "source": [
    "### Korrelation zwischen den Kanälen\n",
    "\n"
   ]
  },
  {
   "cell_type": "markdown",
   "metadata": {},
   "source": [
    "Ein Stereosignal mit den Abtastwerten $x_{L}$ und $x_{R}$ bildet das Produkt\n",
    "\n"
   ]
  },
  {
   "cell_type": "code",
   "execution_count": 1,
   "metadata": {},
   "outputs": [
    {
     "name": "stdout",
     "output_type": "stream",
     "text": [
      "Text(0.5, 0, '$n$')"
     ]
    },
    {
     "data": {
      "image/png": "",
      "text/plain": [
       "<matplotlib.figure.Figure>"
      ]
     },
     "metadata": {},
     "output_type": "display_data"
    }
   ],
   "source": [
    "x_si_L =x_L[:,0] * x_L[:,1]\n",
    "plt.plot(x_si_L)\n",
    "plt.xlabel(\"$n$\")"
   ]
  },
  {
   "cell_type": "markdown",
   "metadata": {},
   "source": [
    "Das Ergebnis ist überwiegend größer Null, da die beide Signale\n",
    "meistens das gleiche Vorzeichen haben.\n",
    "\n"
   ]
  },
  {
   "cell_type": "markdown",
   "metadata": {},
   "source": [
    "### Korrelation im Signal\n",
    "\n"
   ]
  },
  {
   "cell_type": "markdown",
   "metadata": {},
   "source": [
    "Das Produkt zweier aufeinanderfolgender Abtastwerte ist:\n",
    "\n"
   ]
  },
  {
   "cell_type": "code",
   "execution_count": 1,
   "metadata": {},
   "outputs": [
    {
     "name": "stdout",
     "output_type": "stream",
     "text": [
      "| <matplotlib.lines.Line2D | at | 0x7fe70c1fe0d0> | <matplotlib.lines.Line2D | at | 0x7fe70b8f30d0> |"
     ]
    },
    {
     "data": {
      "image/png": "",
      "text/plain": [
       "<matplotlib.figure.Figure>"
      ]
     },
     "metadata": {},
     "output_type": "display_data"
    }
   ],
   "source": [
    "x_korr_Lm1 = x_L[1:-1] * x_L[0:x_L.shape[0]-2]/x_L.shape[0]\n",
    "plt.plot(x_korr_Lm1)"
   ]
  },
  {
   "cell_type": "markdown",
   "metadata": {},
   "source": [
    "Das Produkt ist überwiegend positiv, da die benachbarten Abtastwerte das gleiche Vorzeichen haben.\n",
    "\n"
   ]
  },
  {
   "cell_type": "markdown",
   "metadata": {},
   "source": [
    "### Korrelationskoeffizient\n",
    "\n"
   ]
  },
  {
   "cell_type": "markdown",
   "metadata": {},
   "source": [
    "\\begin{equation}\n",
    "\\label{eq:korrkoeff}\n",
    "\\rho_{\\vec x_{1}\\vec x_{2}} = \\frac{\\mu_{\\vec x_{1}\\vec x_{2}}^{(1,1)}}{\\sigma_{\\vec x_{1}}\\sigma_{\\vec x_{2}}}\n",
    "\\end{equation}\n",
    "\n"
   ]
  },
  {
   "cell_type": "code",
   "execution_count": 1,
   "metadata": {},
   "outputs": [
    {
     "name": "stdout",
     "output_type": "stream",
     "text": [
      "Text(0.5, 0, '$n$')"
     ]
    },
    {
     "data": {
      "image/png": "",
      "text/plain": [
       "<matplotlib.figure.Figure>"
      ]
     },
     "metadata": {},
     "output_type": "display_data"
    }
   ],
   "source": [
    "x_ss_L =(x_L[:,0]**2 * x_L[:,1]**2)**0.5\n",
    "isntzero = np.where(x_ss_L != 0)\n",
    "rho = x_si_L[isntzero]/x_ss_L[isntzero]\n",
    "plt.plot(rho[0:200])\n",
    "plt.xlabel(\"$n$\")"
   ]
  },
  {
   "cell_type": "markdown",
   "metadata": {},
   "source": [
    "### Statistische Abhängigkeit\n",
    "\n"
   ]
  },
  {
   "cell_type": "markdown",
   "metadata": {},
   "source": [
    "Vollziehen Sie das Beispiel aus 3.8.1 mit einem eigenen Bild in einer eigenen Implementierung nach.\n",
    "\n"
   ]
  }
 ],
 "metadata": {
  "kernelspec": {
   "display_name": "Python 3 (ipykernel)",
   "language": "python",
   "name": "python3"
  },
  "language_info": {
   "codemirror_mode": {
    "name": "ipython",
    "version": 3
   },
   "file_extension": ".py",
   "mimetype": "text/x-python",
   "name": "python",
   "nbconvert_exporter": "python",
   "pygments_lexer": "ipython3",
   "version": "3.10.13"
  },
  "org": null
 },
 "nbformat": 4,
 "nbformat_minor": 4
}
