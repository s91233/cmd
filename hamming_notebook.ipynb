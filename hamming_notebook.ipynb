{
 "cells": [
  {
   "cell_type": "markdown",
   "metadata": {},
   "source": [
    "Hamming-Code\n",
    "============\n",
    "\n",
    "**Author:** Prof. Dr.-Ing. Johann-Markus Batke\n",
    "\n",
    "**Date:** [2024-07-03 Mi]\n",
    "\n"
   ]
  },
  {
   "cell_type": "markdown",
   "metadata": {},
   "source": [
    "## Setup\n",
    "\n"
   ]
  },
  {
   "cell_type": "code",
   "execution_count": 1,
   "metadata": {},
   "outputs": [],
   "source": [
    "import numpy as np\n",
    "import matplotlib.pyplot as plt"
   ]
  },
  {
   "cell_type": "markdown",
   "metadata": {},
   "source": [
    "## Encodierung\n",
    "\n"
   ]
  },
  {
   "cell_type": "markdown",
   "metadata": {},
   "source": [
    "Generatormatrix $\\vec G$\n",
    "\n"
   ]
  },
  {
   "cell_type": "code",
   "execution_count": 1,
   "metadata": {},
   "outputs": [],
   "source": [
    "N = 7\n",
    "K = 4\n",
    "L = N-K\n",
    "\n",
    "P_KL = np.array([[1, 1, 0],\n",
    "\t         [0, 1, 1],\n",
    "\t         [1, 1, 1],\n",
    "\t         [1, 0, 1]]) #  Pruefstber.\n",
    "G_KN = np.concatenate((np.eye(K), P_KL), axis=1)"
   ]
  },
  {
   "cell_type": "markdown",
   "metadata": {},
   "source": [
    "Nachricht $\\vec u$\n",
    "\n"
   ]
  },
  {
   "cell_type": "code",
   "execution_count": 1,
   "metadata": {},
   "outputs": [
    {
     "name": "stdout",
     "output_type": "stream",
     "text": [
      "[1 0 1 0]"
     ]
    }
   ],
   "source": [
    "u_K  = np.array([1, 0, 1, 0])\n",
    "print(u_K)"
   ]
  },
  {
   "cell_type": "markdown",
   "metadata": {},
   "source": [
    "Encodieren der Nachricht zum Sendewort $\\vec v$\n",
    "\n"
   ]
  },
  {
   "cell_type": "code",
   "execution_count": 1,
   "metadata": {},
   "outputs": [
    {
     "name": "stdout",
     "output_type": "stream",
     "text": [
      "[1 0 1 0 0 0 1]"
     ]
    }
   ],
   "source": [
    "v_N = np.mod(u_K @ G_KN, 2).astype(int)\n",
    "print(v_N)"
   ]
  },
  {
   "cell_type": "markdown",
   "metadata": {},
   "source": [
    "## Kanal\n",
    "\n"
   ]
  },
  {
   "cell_type": "markdown",
   "metadata": {},
   "source": [
    "Störung des Kanals als Störwort $\\vec k$\n",
    "\n"
   ]
  },
  {
   "cell_type": "code",
   "execution_count": 1,
   "metadata": {},
   "outputs": [],
   "source": [
    "k_N = np.array([0, 1, 0, 0, 0, 0, 0])"
   ]
  },
  {
   "cell_type": "markdown",
   "metadata": {},
   "source": [
    "stören, Empfangswort $\\vec r$ berechnen\n",
    "\n"
   ]
  },
  {
   "cell_type": "code",
   "execution_count": 1,
   "metadata": {},
   "outputs": [
    {
     "name": "stdout",
     "output_type": "stream",
     "text": [
      "[1 1 1 0 0 0 1]"
     ]
    }
   ],
   "source": [
    "r_N = np.mod(v_N + k_N, 2).astype(int)\n",
    "print(r_N)"
   ]
  },
  {
   "cell_type": "markdown",
   "metadata": {},
   "source": [
    "## Decodieren\n",
    "\n"
   ]
  },
  {
   "cell_type": "markdown",
   "metadata": {},
   "source": [
    "Prüfmatrix $\\vec H$\n",
    "\n"
   ]
  },
  {
   "cell_type": "code",
   "execution_count": 1,
   "metadata": {},
   "outputs": [
    {
     "name": "stdout",
     "output_type": "stream",
     "text": [
      "[[1 0 0]\n",
      " [0 1 0]\n",
      " [0 0 1]\n",
      " [1 1 0]\n",
      " [0 1 1]\n",
      " [1 1 1]\n",
      " [1 0 1]]"
     ]
    }
   ],
   "source": [
    "H_LN = np.concatenate((np.eye(L), P_KL)).astype(int)\n",
    "print(H_LN)"
   ]
  },
  {
   "cell_type": "markdown",
   "metadata": {},
   "source": [
    "Syndrom berechnen\n",
    "\n"
   ]
  },
  {
   "cell_type": "code",
   "execution_count": 1,
   "metadata": {},
   "outputs": [
    {
     "name": "stdout",
     "output_type": "stream",
     "text": [
      "[0 1 0]"
     ]
    }
   ],
   "source": [
    "s_L = np.mod(r_N @ H_LN, 2).astype(int)\n",
    "print(s_L)"
   ]
  },
  {
   "cell_type": "markdown",
   "metadata": {},
   "source": [
    "Syndrom in Decodiermatrix $\\vec H$ suchen:\n",
    "\n"
   ]
  },
  {
   "cell_type": "code",
   "execution_count": 1,
   "metadata": {},
   "outputs": [
    {
     "name": "stdout",
     "output_type": "stream",
     "text": [
      "Fehler an Stelle 1 gefunden (gezählt ab 0)."
     ]
    }
   ],
   "source": [
    "for l in range(L):\n",
    "    if sum(s_L == H_LN[l])==L:\n",
    "        print(\"Fehler an Stelle \" + str(l) + \" gefunden (gezählt ab Index 0).\" )"
   ]
  }
 ],
 "metadata": {
  "kernelspec": {
   "display_name": "Python 3 (ipykernel)",
   "language": "python",
   "name": "python3"
  },
  "language_info": {
   "codemirror_mode": {
    "name": "ipython",
    "version": 3
   },
   "file_extension": ".py",
   "mimetype": "text/x-python",
   "name": "python",
   "nbconvert_exporter": "python",
   "pygments_lexer": "ipython3",
   "version": "3.10.13"
  },
  "org": null
 },
 "nbformat": 4,
 "nbformat_minor": 4
}
