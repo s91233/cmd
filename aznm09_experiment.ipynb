{
 "cells": [
  {
   "cell_type": "markdown",
   "metadata": {},
   "source": [
    "## Redundanz\n",
    "\n"
   ]
  },
  {
   "cell_type": "markdown",
   "metadata": {},
   "source": [
    "Bestimmen Sie die Entropie eines selbstausgewählten Musiksignals. Führen Sie die Differenzcodierung durch und bestimmen Sie die Entropie erneut!\n",
    "\n",
    "init.\n",
    "\n"
   ]
  },
  {
   "cell_type": "code",
   "execution_count": 1,
   "metadata": {},
   "outputs": [],
   "source": [
    "import numpy as np\n",
    "import matplotlib.pyplot as plt\n",
    "import scipy.io.wavfile as wavfile"
   ]
  },
  {
   "cell_type": "markdown",
   "metadata": {},
   "source": [
    "Musik-Datei einlesen:\n",
    "\n"
   ]
  },
  {
   "cell_type": "code",
   "execution_count": 1,
   "metadata": {},
   "outputs": [
    {
     "name": "stdout",
     "output_type": "stream",
     "text": [
      "/tmp/ipykernel_1665085/2883443156.py:2: WavFileWarning: Chunk (non-data) not understood, skipping it.\n",
      "  [f_rate, x_data] = wavfile.read(S_filename)\n",
      "| <matplotlib.lines.Line2D | at | 0x7f1dd912d3d0> | <matplotlib.lines.Line2D | at | 0x7f1dd9124910> |\n",
      "[[./.ob-jupyter/9c7a81d5a4afea5daa9bc971328368c6cdef1d7e.png]]"
     ]
    }
   ],
   "source": [
    "S_filename = \"/home/jbatke/Version/CMD_MMI/Vorlesung/1Battle_Royal.wav\"\n",
    "[f_rate, x_data] = wavfile.read(S_filename)\n",
    "x_L = np.array(x_data, dtype=float)\n",
    "plt.plot(x_L)"
   ]
  },
  {
   "cell_type": "markdown",
   "metadata": {},
   "source": [
    "WDF bestimmen: Schätzung der Wahrscheinlichkeitsdichtefunktion $f_{\\vec x}(x)$ per Häufigkeitsdichte\n",
    "\n"
   ]
  },
  {
   "cell_type": "code",
   "execution_count": 1,
   "metadata": {},
   "outputs": [
    {
     "name": "stdout",
     "output_type": "stream",
     "text": [
      "Text(0, 0.5, 'rel. Haeufigkeit in %')\n",
      "[[./.ob-jupyter/a1ba02fcb8d48bf3f53d2715076e24ecc5cb9c01.png]]"
     ]
    }
   ],
   "source": [
    "# x_data = np.random.lognormal(0, 1, 10000)\n",
    "bins_x = np.arange(np.min(np.min(x_data)), np.max(np.max(x_data))+1)\n",
    "f_1_x, bin_edge = np.histogram(x_data[:,0], bins_x, density=True)\n",
    "plt.plot(bins_x[1:bins_x.size], f_1_x*100)\n",
    "plt.xlabel(\"$x$\")\n",
    "plt.ylabel(\"rel. Haeufigkeit in %\")"
   ]
  },
  {
   "cell_type": "markdown",
   "metadata": {},
   "source": [
    "Entropie $H(x) = \\sum_{i} P_{\\vec x}(x_{i}) \\log_{2}(\\frac{1}{P_{\\vec x}(x_{i})})$\n",
    "\n"
   ]
  },
  {
   "cell_type": "code",
   "execution_count": 1,
   "metadata": {},
   "outputs": [
    {
     "name": "stdout",
     "output_type": "stream",
     "text": [
      "entropie\n",
      "Entropie H_x =  12.89180477512903 bit"
     ]
    }
   ],
   "source": [
    "def entropie(f_x):\n",
    "   nz = np.where(f_x != 0)\n",
    "   return -np.sum(f_x[nz] * np.log2(f_x[nz]))\n",
    "print(\"Entropie H_x = \", entropie(f_1_x), \"bit\")"
   ]
  },
  {
   "cell_type": "markdown",
   "metadata": {},
   "source": [
    "WDF für $d[n]$\n",
    "\n"
   ]
  },
  {
   "cell_type": "code",
   "execution_count": 1,
   "metadata": {},
   "outputs": [
    {
     "name": "stdout",
     "output_type": "stream",
     "text": [
      "Text(0, 0.5, 'rel. Haeufigkeit in %')\n",
      "[[./.ob-jupyter/804f492864b1c0ef0f212bdf0c45238759842e4e.png]]"
     ]
    }
   ],
   "source": [
    "d_L = np.diff(x_L[:,0])\n",
    "# d_L = np.diff(d_L)\n",
    "# d_L = np.diff(d_L)\n",
    "\n",
    "f_1_d, bin_edge = np.histogram(d_L, bins_x, density=True)\n",
    "plt.plot(bins_x[1:bins_x.size], f_1_d*100)\n",
    "plt.xlabel(\"$x$\")\n",
    "plt.ylabel(\"rel. Haeufigkeit in %\")"
   ]
  },
  {
   "cell_type": "markdown",
   "metadata": {},
   "source": [
    "Entropie des Differenzsignals\n",
    "\n"
   ]
  },
  {
   "cell_type": "code",
   "execution_count": 1,
   "metadata": {},
   "outputs": [
    {
     "name": "stdout",
     "output_type": "stream",
     "text": [
      "Entropie H_d =  11.436124159935002 bit"
     ]
    }
   ],
   "source": [
    "print(\"Entropie H_d = \", entropie(f_1_d), \"bit\")"
   ]
  },
  {
   "cell_type": "markdown",
   "metadata": {},
   "source": [
    "Die Ersparnis durch die Differenzcodierung beträgt etwa\n",
    "\n"
   ]
  },
  {
   "cell_type": "code",
   "execution_count": 1,
   "metadata": {},
   "outputs": [
    {
     "name": "stdout",
     "output_type": "stream",
     "text": [
      "1.4556806151940282  bit"
     ]
    }
   ],
   "source": [
    "print(entropie(f_1_x)-entropie(f_1_d), \" bit\")"
   ]
  },
  {
   "cell_type": "markdown",
   "metadata": {},
   "source": [
    "## Differenzen-Quantisierung\n",
    "\n"
   ]
  },
  {
   "cell_type": "markdown",
   "metadata": {},
   "source": [
    "Nachfolgend finden Sie die Angaben aus der Exceltabelle des Abschnitts.  Vollziehen Sie die Quantisierung und Synthese des Ursprungssignals nach!\n",
    "\n",
    "Die Grenzwerte der ungleichförmigen (und linearen) Quantisierung (nach der Tabelle  [https://vfhcmd.eduloop.de/loop/Differenzen:_Quantisierung](https://vfhcmd.eduloop.de/loop/Differenzen:_Quantisierung)) sind in der Abbildung dargestellt, die\n",
    "\n"
   ]
  },
  {
   "cell_type": "code",
   "execution_count": 1,
   "metadata": {},
   "outputs": [],
   "source": [
    "Q_Gr = np.array([-10000, -26.5, -11.5, -4.5, -1.5, -0.5])\n",
    "Q_Gr = np.concatenate((Q_Gr,  -Q_Gr[Q_Gr.size::-1]))\n",
    "Q_Er = np.array([-38, -19, -8,  -3, -1, 0])\n",
    "Q_Er = np.concatenate((Q_Er, -np.flip(Q_Er[:-1], axis=0)))"
   ]
  },
  {
   "cell_type": "code",
   "execution_count": 1,
   "metadata": {},
   "outputs": [
    {
     "name": "stdout",
     "output_type": "stream",
     "text": [
      "Text(0, 0.5, 'quantisierte Werte x_q')\n",
      "[[./.ob-jupyter/1e34b3b6645debb00743d74792ff727866d9da3a.png]]"
     ]
    }
   ],
   "source": [
    "fig, ax = plt.subplots(1, 1, figsize=(10,2))\n",
    "plt.stem(Q_Gr[1:Q_Gr.size-1], Q_Gr[1:Q_Gr.size-1], linefmt='b')\n",
    "plt.stem(Q_Er[0:Q_Er.size], Q_Er[0:Q_Er.size], linefmt='r')\n",
    "plt.xlabel(\"Eingangswerte x\")\n",
    "plt.ylabel(\"quantisierte Werte x_q\")"
   ]
  },
  {
   "cell_type": "markdown",
   "metadata": {},
   "source": [
    "### Quantisierer\n",
    "\n"
   ]
  },
  {
   "cell_type": "markdown",
   "metadata": {},
   "source": [
    "Definiere Quantisierer\n",
    "\n"
   ]
  },
  {
   "cell_type": "code",
   "execution_count": 1,
   "metadata": {},
   "outputs": [],
   "source": [
    "def quantisierer(x_lin_N, Q_Gr, Q_Er):\n",
    "    x_qun_N = np.zeros(x_lin_N.size)\n",
    "\n",
    "    for g in range(Q_Er.size): # suche für jeden Ersatzwert Kandidaten\n",
    "        idx = np.logical_and(x_lin_N >  Q_Gr[g], x_lin_N <= Q_Gr[g+1]) # untere Grenze # obere Grenze\n",
    "        x_qun_N[idx] = Q_Er[g] # weise Ersatzwert zu\n",
    "    return x_qun_N"
   ]
  },
  {
   "cell_type": "markdown",
   "metadata": {},
   "source": [
    "### Kennlinie\n",
    "\n"
   ]
  },
  {
   "cell_type": "markdown",
   "metadata": {},
   "source": [
    "Die Darstellung der Kennlinie über linear aufsteigende Eingangswerte ist in der Abbildung dargestellt.\n",
    "\n"
   ]
  },
  {
   "cell_type": "code",
   "execution_count": 1,
   "metadata": {},
   "outputs": [
    {
     "name": "stdout",
     "output_type": "stream",
     "text": [
      "Text(0, 0.5, 'Ausgangswerte $x_{q}$')\n",
      "[[./.ob-jupyter/b9382fe08db095301b97a618089406e5d01aa082.png]]"
     ]
    }
   ],
   "source": [
    "N = 100\n",
    "x_lin_N = np.linspace(-50, 50, N)\n",
    "plt.plot(x_lin_N, quantisierer(x_lin_N, Q_Gr, Q_Er))\n",
    "plt.grid(True)\n",
    "plt.xlabel(\"Eingangswerte $x$\")\n",
    "plt.ylabel(\"Ausgangswerte $x_{q}$\")\n",
    "# plt.savefig(filename)\n",
    "# plt.close()\n",
    "# Figure(filename, name=name, caption=caption, attributes=[('org', attr_org), ('latex', attr_latex)])"
   ]
  },
  {
   "cell_type": "markdown",
   "metadata": {},
   "source": [
    "### quantisiertes Differenzsignal\n",
    "\n"
   ]
  },
  {
   "cell_type": "markdown",
   "metadata": {},
   "source": [
    "### Quantisierungsfehler des Differenzsignals\n",
    "\n"
   ]
  },
  {
   "cell_type": "markdown",
   "metadata": {},
   "source": [
    "### Synthese\n",
    "\n"
   ]
  },
  {
   "cell_type": "markdown",
   "metadata": {},
   "source": [
    "synth. Signal aus d<sub>qn</sub><sub>N</sub> und d<sub>N</sub>\n",
    "\n"
   ]
  },
  {
   "cell_type": "code",
   "execution_count": 1,
   "metadata": {},
   "outputs": [],
   "source": [
    "X_qun_N = dpcm_dec(d_qun_N)\n",
    "X_N = dpcm_dec(d_N)"
   ]
  },
  {
   "cell_type": "markdown",
   "metadata": {},
   "source": [
    "Die Abbildung zeigt die Darstellung der beiden Varianten und den kumulierten Fehler:\n",
    "\n"
   ]
  },
  {
   "cell_type": "code",
   "execution_count": 1,
   "metadata": {},
   "outputs": [
    {
     "name": "stdout",
     "output_type": "stream",
     "text": [
      "[[./.ob-jupyter/0624983143d0b2c0b59be68932377ce2968e4bcb.png]]"
     ]
    }
   ],
   "source": [
    "fig, ax = plt.subplots(2, 1, gridspec_kw={'height_ratios': [3, 1]})\n",
    "ax[0].plot(X_N, label=\"$x[n]$\")\n",
    "ax[0].plot(X_qun_N, label=\"$x_{q}[n]$\")\n",
    "ax[0].legend()\n",
    "ax[0].grid(True)\n",
    "ax[1].plot(e_ku_N[0:-1], label=\"$e_{kum}[n]$\")\n",
    "ax[1].set_xlabel(\"$n$\")\n",
    "ax[1].legend()\n",
    "ax[1].grid(True)\n",
    "# plt.savefig(filename)\n",
    "# plt.close()\n",
    "# Figure(filename, name=name, caption=caption, attributes=[('org', attr_org), ('latex', attr_latex)])"
   ]
  }
 ],
 "metadata": {
  "kernelspec": {
   "display_name": "Python 3 (ipykernel)",
   "language": "python",
   "name": "python3"
  },
  "language_info": {
   "codemirror_mode": {
    "name": "ipython",
    "version": 3
   },
   "file_extension": ".py",
   "mimetype": "text/x-python",
   "name": "python",
   "nbconvert_exporter": "python",
   "pygments_lexer": "ipython3",
   "version": "3.10.13"
  },
  "org": null
 },
 "nbformat": 4,
 "nbformat_minor": 4
}
